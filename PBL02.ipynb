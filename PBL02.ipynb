{
 "cells": [
  {
   "cell_type": "code",
   "execution_count": null,
   "metadata": {},
   "outputs": [],
   "source": [
    "import numpy as np"
   ]
  },
  {
   "cell_type": "code",
   "execution_count": null,
   "metadata": {},
   "outputs": [
    {
     "name": "stdout",
     "output_type": "stream",
     "text": [
      "Preço teórico do contrato a termo: 122.42\n",
      "Preço de mercado do contrato a termo: 121.00\n",
      "O contrato está barato. Estratégia de arbitragem: comprar o forward e vender a ação.\n",
      "Payoff esperado da arbitragem: 1.42\n"
     ]
    },
    {
     "ename": "",
     "evalue": "",
     "output_type": "error",
     "traceback": [
      "\u001b[1;31mThe Kernel crashed while executing code in the current cell or a previous cell. \n",
      "\u001b[1;31mPlease review the code in the cell(s) to identify a possible cause of the failure. \n",
      "\u001b[1;31mClick <a href='https://aka.ms/vscodeJupyterKernelCrash'>here</a> for more info. \n",
      "\u001b[1;31mView Jupyter <a href='command:jupyter.viewOutput'>log</a> for further details."
     ]
    }
   ],
   "source": [
    "def check_forward_price(S, F_market, r, q, T):\n",
    "\n",
    "    # Preço teórico do contrato a termo\n",
    "    F_teorico = S * np.exp((r - q) * T)\n",
    "    \n",
    "    print(f\"Preço teórico do contrato a termo: {F_teorico:.2f}\")\n",
    "    print(f\"Preço de mercado do contrato a termo: {F_market:.2f}\")\n",
    "    \n",
    "    if np.isclose(F_teorico, F_market, atol=0.01):\n",
    "        print(\"O contrato está corretamente precificado. Não há oportunidades de arbitragem.\")\n",
    "        return\n",
    "    \n",
    "    # Se o contrato estiver caro\n",
    "    if F_market > F_teorico:\n",
    "        print(\"O contrato está caro. Estratégia de arbitragem: vender o forward e comprar a ação.\")\n",
    "        \n",
    "        # Payoff esperado\n",
    "        profit = F_market - F_teorico\n",
    "    \n",
    "    # Se o contrato estiver barato\n",
    "    else:\n",
    "        print(\"O contrato está barato. Estratégia de arbitragem: comprar o forward e vender a ação.\" )\n",
    "        \n",
    "        # Payoff esperado\n",
    "        profit = F_teorico - F_market\n",
    "    \n",
    "    print(f\"Payoff esperado da arbitragem: {profit:.2f}\")\n",
    "    \n",
    "# Definição dos parâmetros do problema\n",
    "S = 120      # Preço atual da ação\n",
    "F_market = 121 # Preço do forward observado\n",
    "r = 0.06     # Taxa de juros livre de risco (contínua)\n",
    "q = 0.04     # Taxa de dividendos contínua\n",
    "T = 1        # Tempo até o vencimento (em anos)\n",
    "\n",
    "# Verificação do preço do forward\n",
    "check_forward_price(S, F_market, r, q, T)"
   ]
  }
 ],
 "metadata": {
  "kernelspec": {
   "display_name": "base",
   "language": "python",
   "name": "python3"
  },
  "language_info": {
   "codemirror_mode": {
    "name": "ipython",
    "version": 3
   },
   "file_extension": ".py",
   "mimetype": "text/x-python",
   "name": "python",
   "nbconvert_exporter": "python",
   "pygments_lexer": "ipython3",
   "version": "3.12.7"
  }
 },
 "nbformat": 4,
 "nbformat_minor": 2
}
