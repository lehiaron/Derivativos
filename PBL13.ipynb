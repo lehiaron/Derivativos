{
 "cells": [
  {
   "cell_type": "code",
   "execution_count": 1,
   "id": "c64e66f4",
   "metadata": {},
   "outputs": [
    {
     "name": "stdout",
     "output_type": "stream",
     "text": [
      "[1] Call Europeia (3m, K=5.6): Preço unitário = BRL 0.3835 | Total = BRL 9.59\n",
      "[2] Call Europeia (6m, K=5.8): Preço unitário = BRL 0.4143 | Total = BRL 10.36\n",
      "[3] Put Americana (6m, K=6.0): Não aplicável ao modelo BSM\n",
      "[4] Put Americana (8m, K=6.2): Não aplicável ao modelo BSM\n",
      "\n",
      "🧾 Total do valor estimado pelas opções europeias via BSM: BRL 19.94\n"
     ]
    }
   ],
   "source": [
    "import numpy as np\n",
    "from scipy.stats import norm\n",
    "\n",
    "# Função BSM para opções europeias com juros estrangeiros (modelo Garman-Kohlhagen)\n",
    "def bsm_option_price(S, K, r, q, sigma, T, option_type='call'):\n",
    "    d1 = (np.log(S / K) + (r - q + 0.5 * sigma ** 2) * T) / (sigma * np.sqrt(T))\n",
    "    d2 = d1 - sigma * np.sqrt(T)\n",
    "\n",
    "    if option_type == 'call':\n",
    "        price = S * np.exp(-q * T) * norm.cdf(d1) - K * np.exp(-r * T) * norm.cdf(d2)\n",
    "    elif option_type == 'put':\n",
    "        price = K * np.exp(-r * T) * norm.cdf(-d2) - S * np.exp(-q * T) * norm.cdf(-d1)\n",
    "    else:\n",
    "        raise ValueError(\"Tipo de opção inválido: use 'call' ou 'put'\")\n",
    "\n",
    "    return price\n",
    "\n",
    "# Parâmetros comuns\n",
    "S0 = 5.75           # Spot BRL/USD\n",
    "r = 0.03            # taxa doméstica contínua (BRL)\n",
    "q = 0.005           # taxa estrangeira contínua (USD)\n",
    "sigma = 0.25        # volatilidade anual\n",
    "\n",
    "# 1. Call Europeia (3 meses, strike 5.6)\n",
    "K1 = 5.6\n",
    "T1 = 3 / 12\n",
    "qty1 = 25\n",
    "price1 = bsm_option_price(S0, K1, r, q, sigma, T1, option_type='call')\n",
    "total1 = qty1 * price1\n",
    "\n",
    "# 2. Call Europeia (6 meses, strike 5.8)\n",
    "K2 = 5.8\n",
    "T2 = 6 / 12\n",
    "qty2 = 25\n",
    "price2 = bsm_option_price(S0, K2, r, q, sigma, T2, option_type='call')\n",
    "total2 = qty2 * price2\n",
    "\n",
    "# Resultados\n",
    "print(f\"[1] Call Europeia (3m, K=5.6): Preço unitário = BRL {price1:.4f} | Total = BRL {total1:.2f}\")\n",
    "print(f\"[2] Call Europeia (6m, K=5.8): Preço unitário = BRL {price2:.4f} | Total = BRL {total2:.2f}\")\n",
    "print(f\"[3] Put Americana (6m, K=6.0): Não aplicável ao modelo BSM\")\n",
    "print(f\"[4] Put Americana (8m, K=6.2): Não aplicável ao modelo BSM\")\n",
    "\n",
    "total_european = total1 + total2\n",
    "print(f\"\\n🧾 Total do valor estimado pelas opções europeias via BSM: BRL {total_european:.2f}\")\n"
   ]
  }
 ],
 "metadata": {
  "kernelspec": {
   "display_name": "base",
   "language": "python",
   "name": "python3"
  },
  "language_info": {
   "codemirror_mode": {
    "name": "ipython",
    "version": 3
   },
   "file_extension": ".py",
   "mimetype": "text/x-python",
   "name": "python",
   "nbconvert_exporter": "python",
   "pygments_lexer": "ipython3",
   "version": "3.12.7"
  }
 },
 "nbformat": 4,
 "nbformat_minor": 5
}
