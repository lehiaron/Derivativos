{
 "cells": [
  {
   "cell_type": "code",
   "execution_count": null,
   "metadata": {},
   "outputs": [
    {
     "name": "stdout",
     "output_type": "stream",
     "text": [
      "Valor presente dos fluxos de caixa do investimento em bônus corporativos: 20476861.39989031\n",
      "Valor presente dos fluxos de caixa do empréstimo sindicalizado: 113376933.43269181\n",
      "Custo estimado para encerramento do swap:  696857.860845089\n"
     ]
    }
   ],
   "source": [
    "import numpy as np\n",
    "\n",
    "def present_value(cash_flows, rate, time_periods):\n",
    "    return sum(cf * np.exp(-rate * t) for cf, t in zip(cash_flows, time_periods))\n",
    "\n",
    "# Parte 1: Cálculo dos fluxos de caixa\n",
    "notional_bond = 20000000\n",
    "libor_last = 0.02  # LIBOR na última data de reset\n",
    "spread = 0.002  # Spread de 0.2%\n",
    "time_bond = [0.5, 1.0, 1.5]  # Pagamentos semestrais restantes\n",
    "yield_bond = libor_last + spread\n",
    "cf_bond = [notional_bond * yield_bond * 0.5] * 2 + [notional_bond * (1 + yield_bond * 0.5)]\n",
    "\n",
    "notional_loan = 100000000\n",
    "fixed_rate_loan = 0.06  # 6% ao ano\n",
    "cf_loan = [notional_loan * fixed_rate_loan * 0.5] * 4 + [notional_loan * (1 + fixed_rate_loan * 0.5)]\n",
    "time_loan = [0.5, 1.0, 1.5, 2.0, 2.5]  # Pagamentos semestrais restantes\n",
    "\n",
    "# Parte 2: Cálculo do custo de encerramento do swap\n",
    "notional_swap = 100000000\n",
    "time_swap = [0.5, 1.0]  # Períodos restantes\n",
    "fixed_swap_rate = 0.025  # 2.5% ao ano\n",
    "floating_libor_last = 0.018  # LIBOR flutuante na última data de reset\n",
    "market_swap_rate = 0.006  # Taxa média de swap com composição contínua\n",
    "\n",
    "cf_fixed_leg = [notional_swap * fixed_swap_rate * 0.5] * 1 + [notional_swap * (1 + fixed_swap_rate * 0.5)]\n",
    "cf_floating_leg = [notional_swap * floating_libor_last * 0.5] * 1 + [notional_swap * (1 + floating_libor_last * 0.5)]\n",
    "\n",
    "pv_fixed_leg = present_value(cf_fixed_leg, market_swap_rate, time_swap)\n",
    "pv_floating_leg = present_value(cf_floating_leg, market_swap_rate, time_swap)\n",
    "swap_close_cost = pv_fixed_leg - pv_floating_leg\n",
    "\n",
    "# Resultados\n",
    "print(\"Valor presente dos fluxos de caixa do investimento em bônus corporativos:\", present_value(cf_bond, market_swap_rate, time_bond))\n",
    "print(\"Valor presente dos fluxos de caixa do empréstimo sindicalizado:\", present_value(cf_loan, market_swap_rate, time_loan))\n",
    "print(\"Custo estimado para encerramento do swap: \", swap_close_cost)\n"
   ]
  }
 ],
 "metadata": {
  "kernelspec": {
   "display_name": "base",
   "language": "python",
   "name": "python3"
  },
  "language_info": {
   "codemirror_mode": {
    "name": "ipython",
    "version": 3
   },
   "file_extension": ".py",
   "mimetype": "text/x-python",
   "name": "python",
   "nbconvert_exporter": "python",
   "pygments_lexer": "ipython3",
   "version": "3.12.7"
  }
 },
 "nbformat": 4,
 "nbformat_minor": 2
}
