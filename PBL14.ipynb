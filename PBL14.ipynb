{
 "cells": [
  {
   "cell_type": "code",
   "execution_count": 1,
   "id": "e412f220",
   "metadata": {},
   "outputs": [
    {
     "name": "stdout",
     "output_type": "stream",
     "text": [
      "== Taxa livre de risco implícita do Canadá ==\n",
      "r_f (Canadá) = 6.6383% a.a.\n",
      "\n",
      "== Opção sobre futuros de soja ==\n",
      "Preço da put (K=840): $26.19\n"
     ]
    }
   ],
   "source": [
    "import numpy as np\n",
    "from scipy.stats import norm\n",
    "from scipy.optimize import brentq\n",
    "\n",
    "# Função de preço Garman-Kohlhagen\n",
    "def garman_kohlhagen_fx_call(S, K, T, r_d, r_f, sigma):\n",
    "    d1 = (np.log(S / K) + (r_d - r_f + 0.5 * sigma ** 2) * T) / (sigma * np.sqrt(T))\n",
    "    d2 = d1 - sigma * np.sqrt(T)\n",
    "    call_price = S * np.exp(-r_f * T) * norm.cdf(d1) - K * np.exp(-r_d * T) * norm.cdf(d2)\n",
    "    return call_price\n",
    "\n",
    "# Função para encontrar r_f implícito\n",
    "def find_rf_implied(call_market, S, K, T, r_d, sigma):\n",
    "    obj_function = lambda r_f: garman_kohlhagen_fx_call(S, K, T, r_d, r_f, sigma) - call_market\n",
    "    r_f_solution = brentq(obj_function, -0.10, 0.10)  # buscando entre -10% e +10% a.a.\n",
    "    return r_f_solution\n",
    "\n",
    "# Parâmetros fornecidos\n",
    "S_fx = 0.75      # Spot USD/CAD\n",
    "K_fx = 0.75      # Strike\n",
    "r_us = 0.023     # EUA (dado)\n",
    "T_fx = 0.75      # 9 meses\n",
    "sigma_fx = 0.10  # Volatilidade assumida\n",
    "call_market_price = 0.015  # EXEMPLO: preço de mercado da call FX\n",
    "\n",
    "# Calcular r_f implícito\n",
    "r_ca_implied = find_rf_implied(call_market_price, S_fx, K_fx, T_fx, r_us, sigma_fx)\n",
    "\n",
    "print(\"== Taxa livre de risco implícita do Canadá ==\")\n",
    "print(f\"r_f (Canadá) = {r_ca_implied*100:.4f}% a.a.\")\n",
    "\n",
    "# Parte 2: Put sobre futuros de soja\n",
    "F = 867\n",
    "K_soja = 840\n",
    "C_soja = 52.93\n",
    "r_soja = 0.023\n",
    "T_soja = 5 / 12\n",
    "\n",
    "P_soja = C_soja - np.exp(-r_soja * T_soja) * (F - K_soja)\n",
    "\n",
    "print(\"\\n== Opção sobre futuros de soja ==\")\n",
    "print(f\"Preço da put (K=840): ${P_soja:.2f}\")\n"
   ]
  }
 ],
 "metadata": {
  "kernelspec": {
   "display_name": "base",
   "language": "python",
   "name": "python3"
  },
  "language_info": {
   "codemirror_mode": {
    "name": "ipython",
    "version": 3
   },
   "file_extension": ".py",
   "mimetype": "text/x-python",
   "name": "python",
   "nbconvert_exporter": "python",
   "pygments_lexer": "ipython3",
   "version": "3.12.7"
  }
 },
 "nbformat": 4,
 "nbformat_minor": 5
}
