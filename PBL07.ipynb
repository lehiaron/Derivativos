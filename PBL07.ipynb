{
 "cells": [
  {
   "cell_type": "code",
   "execution_count": 1,
   "metadata": {},
   "outputs": [
    {
     "name": "stdout",
     "output_type": "stream",
     "text": [
      "Preço teórico da put pela paridade put-call: USD 4.70\n"
     ]
    }
   ],
   "source": [
    "import numpy as np\n",
    "\n",
    "def put_call_parity(S, K, T, r, call_price):\n",
    "    \"\"\"\n",
    "    Calcula o preço teórico da put usando a paridade put-call.\n",
    "    \n",
    "    S: preço à vista do ativo subjacente\n",
    "    K: preço de exercício da opção\n",
    "    T: tempo até a expiração (em anos)\n",
    "    r: taxa de juros livre de risco (anualizada)\n",
    "    call_price: preço da call observada no mercado\n",
    "    \"\"\"\n",
    "    put_price = call_price + K * np.exp(-r * T) - S\n",
    "    return put_price\n",
    "\n",
    "# Dados do problema\n",
    "spot_price = 125  # USD por saco de 60kg\n",
    "strike_price = 120  # USD por saco de 60kg\n",
    "option_premium = 10  # USD por saco de 60kg\n",
    "time_to_maturity = 3 / 12  # 3 meses em anos\n",
    "risk_free_rate = 0.01  # 1% ao ano\n",
    "\n",
    "# Preço teórico da put pela paridade put-call\n",
    "put_price = put_call_parity(spot_price, strike_price, time_to_maturity, risk_free_rate, option_premium)\n",
    "\n",
    "# Exibição dos resultados\n",
    "print(f\"Preço teórico da put pela paridade put-call: USD {put_price:.2f}\")\n"
   ]
  }
 ],
 "metadata": {
  "kernelspec": {
   "display_name": "base",
   "language": "python",
   "name": "python3"
  },
  "language_info": {
   "codemirror_mode": {
    "name": "ipython",
    "version": 3
   },
   "file_extension": ".py",
   "mimetype": "text/x-python",
   "name": "python",
   "nbconvert_exporter": "python",
   "pygments_lexer": "ipython3",
   "version": "3.12.7"
  }
 },
 "nbformat": 4,
 "nbformat_minor": 2
}
