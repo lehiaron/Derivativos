{
  "nbformat": 4,
  "nbformat_minor": 0,
  "metadata": {
    "colab": {
      "provenance": []
    },
    "kernelspec": {
      "name": "python3",
      "display_name": "Python 3"
    },
    "language_info": {
      "name": "python"
    }
  },
  "cells": [
    {
      "cell_type": "code",
      "execution_count": 1,
      "metadata": {
        "colab": {
          "base_uri": "https://localhost:8080/"
        },
        "id": "UCwqr51yFlUi",
        "outputId": "43a9883e-7fc4-414a-84f1-1e99e3cb98f1"
      },
      "outputs": [
        {
          "output_type": "stream",
          "name": "stdout",
          "text": [
            "y1: dy = (2*S*mu) dt + (2*S*sigma) dW\n",
            "\n",
            "y2: dy = (S**2*(2*mu + 1.0*sigma**2)) dt + (2*S**2*sigma) dW\n",
            "\n",
            "y3: dy = (S*(0.5*S*sigma**2 + mu)*exp(S)) dt + (S*sigma*exp(S)) dW\n",
            "\n",
            "y4: dy = ((-mu - r + 1.0*sigma**2)*exp(r*(T - t))/S) dt + (-sigma*exp(r*(T - t))/S) dW\n",
            "\n"
          ]
        }
      ],
      "source": [
        "import sympy as sp\n",
        "\n",
        "# Define símbolos\n",
        "S, t, T, mu, sigma, r = sp.symbols('S t T mu sigma r', real=True)\n",
        "dW = sp.symbols('dW')  # incremento de Wiener simbólico\n",
        "\n",
        "# Funções derivativas\n",
        "functions = {\n",
        "    'y1': 2*S,\n",
        "    'y2': S**2,\n",
        "    'y3': sp.exp(S),\n",
        "    'y4': sp.exp(r*(T - t)) * (1/S)\n",
        "}\n",
        "\n",
        "# Função para aplicar o Lema de Itō\n",
        "def ito_lemma(y):\n",
        "    dy_dt = sp.diff(y, t)\n",
        "    dy_dS = sp.diff(y, S)\n",
        "    d2y_dS2 = sp.diff(dy_dS, S)\n",
        "\n",
        "    drift = dy_dt + mu * S * dy_dS + (1/2) * sigma**2 * S**2 * d2y_dS2\n",
        "    diffusion = sigma * S * dy_dS\n",
        "\n",
        "    return drift, diffusion\n",
        "\n",
        "# Aplicando o lema de Itō a cada função\n",
        "for name, y in functions.items():\n",
        "    drift, diffusion = ito_lemma(y)\n",
        "    print(f\"{name}: dy = ({sp.simplify(drift)}) dt + ({sp.simplify(diffusion)}) dW\\n\")\n"
      ]
    }
  ]
}