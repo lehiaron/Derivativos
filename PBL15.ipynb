{
 "cells": [
  {
   "cell_type": "code",
   "execution_count": 1,
   "id": "e1f7b1fa",
   "metadata": {},
   "outputs": [
    {
     "data": {
      "text/plain": [
       "{'delta_50': 0.627409464153284,\n",
       " 'gamma_50': 0.030273586554705557,\n",
       " 'delta_60': 0.34300112611322126,\n",
       " 'gamma_60': 0.0294108726712101,\n",
       " 'shares_held': -274.347030548085,\n",
       " 'calls_60_bought': -1029.3331616895528,\n",
       " 'initial_portfolio_value': 22471.75696278159,\n",
       " 'portfolio_value_after_1m': -21903.81807297712,\n",
       " 'profit': -44375.57503575871}"
      ]
     },
     "execution_count": 1,
     "metadata": {},
     "output_type": "execute_result"
    }
   ],
   "source": [
    "import numpy as np\n",
    "from scipy.stats import norm\n",
    "\n",
    "# Parâmetros do problema\n",
    "S = 50               # Preço da ação\n",
    "K1 = 50              # Strike da opção vendida\n",
    "K2 = 60              # Strike da opção usada para hedge\n",
    "T = 1                # Tempo até o vencimento (anos)\n",
    "r = 0.05             # Taxa livre de risco\n",
    "sigma = 0.25         # Volatilidade\n",
    "N_options = 1000     # Número de opções vendidas\n",
    "dt = 1/12            # Um mês\n",
    "\n",
    "# Preços de mercado\n",
    "C1_0 = 6.1680        # Preço inicial da call ATM\n",
    "C2_0 = 2.5127        # Preço inicial da call 60\n",
    "C1_1 = 5.8611        # Preço da call ATM após 1 mês\n",
    "C2_1 = 2.2591        # Preço da call 60 após 1 mês\n",
    "\n",
    "# Funções para Black-Scholes\n",
    "def bs_d1(S, K, T, r, sigma):\n",
    "    return (np.log(S/K) + (r + 0.5 * sigma**2) * T) / (sigma * np.sqrt(T))\n",
    "\n",
    "def bs_delta(S, K, T, r, sigma):\n",
    "    d1 = bs_d1(S, K, T, r, sigma)\n",
    "    return norm.cdf(d1)\n",
    "\n",
    "def bs_gamma(S, K, T, r, sigma):\n",
    "    d1 = bs_d1(S, K, T, r, sigma)\n",
    "    return norm.pdf(d1) / (S * sigma * np.sqrt(T))\n",
    "\n",
    "# Calculando gregas no tempo 0\n",
    "delta_50 = bs_delta(S, K1, T, r, sigma)\n",
    "gamma_50 = bs_gamma(S, K1, T, r, sigma)\n",
    "delta_60 = bs_delta(S, K2, T, r, sigma)\n",
    "gamma_60 = bs_gamma(S, K2, T, r, sigma)\n",
    "\n",
    "# Sistema de equações:\n",
    "# x + y * delta_60 = -N_options * delta_50   (delta hedge)\n",
    "# y * gamma_60 = -N_options * gamma_50       (gamma hedge)\n",
    "\n",
    "gamma_total = -N_options * gamma_50\n",
    "y = gamma_total / gamma_60\n",
    "x = -N_options * delta_50 - y * delta_60\n",
    "\n",
    "# Avaliação do portfólio após 1 mês (preço do ativo permanece o mesmo)\n",
    "# Preços de mercado após 1 mês\n",
    "value_short_calls = -N_options * C1_1\n",
    "value_long_calls = y * C2_1\n",
    "value_stock = x * S\n",
    "portfolio_1m = value_short_calls + value_long_calls + value_stock\n",
    "\n",
    "# Valor do portfólio no tempo 0\n",
    "initial_short_calls = N_options * C1_0\n",
    "initial_long_calls = -y * C2_0\n",
    "initial_stock = -x * S\n",
    "portfolio_0 = initial_short_calls + initial_long_calls + initial_stock\n",
    "\n",
    "# Lucro\n",
    "profit = portfolio_1m - portfolio_0\n",
    "\n",
    "# Resultados\n",
    "{\n",
    "    \"delta_50\": delta_50,\n",
    "    \"gamma_50\": gamma_50,\n",
    "    \"delta_60\": delta_60,\n",
    "    \"gamma_60\": gamma_60,\n",
    "    \"shares_held\": x,\n",
    "    \"calls_60_bought\": y,\n",
    "    \"initial_portfolio_value\": portfolio_0,\n",
    "    \"portfolio_value_after_1m\": portfolio_1m,\n",
    "    \"profit\": profit\n",
    "}\n"
   ]
  }
 ],
 "metadata": {
  "kernelspec": {
   "display_name": "base",
   "language": "python",
   "name": "python3"
  },
  "language_info": {
   "codemirror_mode": {
    "name": "ipython",
    "version": 3
   },
   "file_extension": ".py",
   "mimetype": "text/x-python",
   "name": "python",
   "nbconvert_exporter": "python",
   "pygments_lexer": "ipython3",
   "version": "3.12.7"
  }
 },
 "nbformat": 4,
 "nbformat_minor": 5
}
